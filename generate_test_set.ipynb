{
 "cells": [
  {
   "cell_type": "code",
   "execution_count": 11,
   "metadata": {},
   "outputs": [
    {
     "data": {
      "text/plain": [
       "([(\"What percentage of people value '5+ Hours' on 'YouTube' compared to other social media platforms?\",\n",
       "   '15.67%'),\n",
       "  (\"What percentage of people consider 'Apparel Shopping' to be as important as 'Entertainment' in their overall 'Lifestyle'?\",\n",
       "   '20.20%'),\n",
       "  (\"What percentage of people consider 'Baseball' as a valued hobby among those who attend in-person professional/college sports as part of their lifestyle?\",\n",
       "   '10.89%'),\n",
       "  (\"What percentage of people consider 'Played Flag Football' to be an important aspect of their lifestyle in relation to 'Sports/Outdoors'?\",\n",
       "   '1.02%'),\n",
       "  (\"What percentage of individuals value the '1.5 - 2 Hours' time slot for 'Weekday Radio Time - 7:00 PM - 12:00 Midnight' in terms of media engagement? Is this considered a high or low sample?\",\n",
       "   'Low Sample')],\n",
       " [(\"What are some common values or characteristics associated with the category 'Technology & Telecom' and subcategory 'Electronics/Technology'? How do gaming subscriptions relate to this subcategory?\",\n",
       "   \"Values such as Gaming Subscriptions related to 'Electronics/Technology'\"),\n",
       "  (\"What are some common values or characteristics associated with the category of 'Media' and its subcategory of 'Media Engagement'?\",\n",
       "   \"Values such as Weekday PC/Laptop Time - 4:00 AM - 8:00 AM related to 'Media Engagement'\"),\n",
       "  ('What are some common values and characteristics associated with media engagement, specifically in the context of weekend radio time between 12:00 midnight and 6:00 AM?',\n",
       "   \"Values such as Weekend Radio Time - 12:00 Midnight - 6:00 AM related to 'Media Engagement'\"),\n",
       "  (\"What are some common values or characteristics associated with the category of 'Media' and its subcategory of 'Social Media'?\",\n",
       "   \"Values such as Social Media Actions Done Weekly related to 'Social Media'\"),\n",
       "  (\"What values are commonly associated with the category of 'Media' and its subcategory of 'Social Media'?\",\n",
       "   \"Values such as Access Social Media On related to 'Social Media'\")])"
      ]
     },
     "execution_count": 11,
     "metadata": {},
     "output_type": "execute_result"
    }
   ],
   "source": [
    "import pandas as pd\n",
    "import random\n",
    "from openai import OpenAI\n",
    "\n",
    "# Load the dataset\n",
    "data = pd.read_csv('raw_data.csv')\n",
    "\n",
    "\n",
    "def generate_question_with_llm(prompt):\n",
    "    \"\"\" Generate a single question using the LLM \"\"\"\n",
    "    response = client.completions.create(model=\"gpt-3.5-turbo-instruct\",\n",
    "    prompt=prompt,\n",
    "    max_tokens=60,\n",
    "    temperature=0.7)\n",
    "    return response.choices[0].text.strip()\n",
    "\n",
    "def generate_composition_questions(data, n=5):\n",
    "    \"\"\" Generate questions about composition percentages using an LLM \"\"\"\n",
    "    questions = []\n",
    "    for _ in range(n):\n",
    "        row = data.sample(1).iloc[0]\n",
    "        prompt = f\"Generate a question asking about the percentage of people who value '{row['Insight Value']}' related to '{row['Insight']}' in the context of '{row['Subcategory1']}'. The answer should be {row['Composition (%)']}'.\"\n",
    "        question = generate_question_with_llm(prompt)\n",
    "        answer = row['Composition (%)']\n",
    "        questions.append((question, answer))\n",
    "    return questions\n",
    "\n",
    "def generate_characteristic_questions(data, n=5):\n",
    "    \"\"\" Generate questions about characteristics associated with categories or subcategories using an LLM \"\"\"\n",
    "    questions = []\n",
    "    for _ in range(n):\n",
    "        row = data.sample(1).iloc[0]\n",
    "        prompt = f\"Create a question that explores common values or characteristics associated with the category '{row['Category']}' and subcategory '{row['Subcategory1']}'. The answer should be: Values such as {row['Insight']} related to '{row['Subcategory1']}'.\"\n",
    "        question = generate_question_with_llm(prompt)\n",
    "        answer = f\"Values such as {row['Insight']} related to '{row['Subcategory1']}'\"\n",
    "        questions.append((question, answer))\n",
    "    return questions\n",
    "\n",
    "composition_questions = generate_composition_questions(data)\n",
    "characteristic_questions = generate_characteristic_questions(data)\n",
    "\n",
    "composition_questions, characteristic_questions\n"
   ]
  },
  {
   "cell_type": "code",
   "execution_count": null,
   "metadata": {},
   "outputs": [],
   "source": [
    "\n",
    "# Initialize the OpenAI API\n",
    "# setup_openai_api()\n",
    "\n",
    "# Generate test questions\n",
    "composition_questions = generate_composition_questions(data)\n",
    "characteristic_questions = generate_characteristic_questions(data)\n",
    "\n",
    "composition_questions, characteristic_questions\n"
   ]
  },
  {
   "cell_type": "code",
   "execution_count": null,
   "metadata": {},
   "outputs": [],
   "source": []
  }
 ],
 "metadata": {
  "kernelspec": {
   "display_name": "Python 3",
   "language": "python",
   "name": "python3"
  },
  "language_info": {
   "codemirror_mode": {
    "name": "ipython",
    "version": 3
   },
   "file_extension": ".py",
   "mimetype": "text/x-python",
   "name": "python",
   "nbconvert_exporter": "python",
   "pygments_lexer": "ipython3",
   "version": "3.10.14"
  }
 },
 "nbformat": 4,
 "nbformat_minor": 2
}
