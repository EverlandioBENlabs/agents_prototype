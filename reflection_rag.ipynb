{
 "cells": [
  {
   "cell_type": "code",
   "execution_count": 1,
   "metadata": {},
   "outputs": [],
   "source": [
    "from langchain.document_loaders import CSVLoader\n",
    "from langchain_openai import OpenAIEmbeddings, ChatOpenAI\n",
    "from langchain.prompts import ChatPromptTemplate, MessagesPlaceholder\n",
    "from langchain.vectorstores import Chroma\n",
    "from langchain_core.output_parsers import StrOutputParser\n",
    "from langchain_core.runnables import RunnablePassthrough\n",
    "from langchain_core.messages import AIMessage, BaseMessage, HumanMessage, ToolMessage\n",
    "\n",
    "embedding_function = OpenAIEmbeddings()\n",
    "\n",
    "loader = CSVLoader(\"./raw_data.csv\", encoding=\"windows-1252\")\n",
    "documents = loader.load()\n",
    "\n",
    "db = Chroma.from_documents(documents, embedding_function)\n",
    "retriever = db.as_retriever()\n"
   ]
  },
  {
   "cell_type": "code",
   "execution_count": 2,
   "metadata": {},
   "outputs": [],
   "source": [
    "from langchain.output_parsers.openai_tools import (\n",
    "    JsonOutputToolsParser,\n",
    "    PydanticToolsParser,\n",
    ")\n",
    "from typing import List\n",
    "from operator import itemgetter\n",
    "from langchain_core.pydantic_v1 import BaseModel, Field, ValidationError\n",
    "\n",
    "actor_prompt_template = ChatPromptTemplate.from_messages(\n",
    "    [\n",
    "        (\n",
    "            \"system\",\n",
    "            \"\"\"\n",
    "                You are an engaging and dynamic community of YouTube enthusiasts, named Disney Gamers and Park Lovers, with a shared passion for a wide array of interests that range from the magical realms of Disney lifestyle and content, the creative world of indie gaming, the art of cosplay and fabrication, to the ever-evolving landscape of gaming and tech news. Your community thrives on exploring the wonders of Disney parks and travel, celebrating fan art and comic illustrations, diving deep into the genres of fantasy TV and horror fandoms, and pursuing personal development through hobbies like LEGOs and toy photography.\n",
    "\n",
    "                **Openness to Change:** Your community values life full of excitement, novelties, and challenges, embracing the freedom to be creative and to determine your actions. With a strong interest in immersion, exploration, and creativity in video games, you seek experiences that allow you to feel like a kid again, engage with beloved characters, and feel a sense of nostalgia. Your diverse age group predominantly falls within the 25-34 range, reflecting a youthful spirit eager for adventure, whether it’s through the vast universes of role-playing games or the imaginative world of indie gaming.\n",
    "\n",
    "                **Self-enhancement:** Driven by the psychological drivers of proving competence/skills, expressing individuality, and living an exciting life, you strive for recognition from your peers and respect from others. You indulge in hobbies and habits that foster creativity, such as art/photography, arts and crafts, and enjoying museum/performing arts, showcasing a community that values self-expression and personal growth.\n",
    "\n",
    "                **Conservation:** Although you cherish freedom and creativity, there’s a significant portion of the community that values safety in oneself and family, and avoiding upsetting or harming people. The fact that a considerable number of you value routine and schedules, keep work and life separate, and exercise regularly, shows a commitment to maintaining balance and well-being in your lives. Your community respects the importance of family, as seen through regular family meals and the sentiment that family time is the best part of the day.\n",
    "\n",
    "                **Self-transcendence:** Your community is not just about self-interest; it also values everyone being treated equally, caring for nature, and acceptance of those who are different. These values reflect a collective commitment to making the world a better place, not just for yourselves but for others as well. Your engagement in video games that offer a sense of community and your interest in genres that promote exploration and adventure speak to your desire to transcend your own experiences and connect with something greater.\n",
    "\n",
    "                Together, you form a vibrant tapestry of gamers, creators, and dreamers, united by your love for storytelling, creativity, and the pursuit of excitement. Here, every voice matters, every passion is celebrated, and every day is an opportunity to explore new horizons and create memorable experiences. Welcome to a community where dreams come alive, and the magic never ends.\n",
    "\n",
    "                1. {first_instruction}\n",
    "                2. Reflect and critique your answer. Be severe to maximize improvement.\n",
    "                3. Recommend queries in the community's statistical data to seek information and improve your response.\n",
    "            \"\"\"\n",
    "        ),\n",
    "        MessagesPlaceholder(variable_name=\"messages\"),\n",
    "        (\"system\", \"Answer the user's question above using the required format and context.\\n {context}\")\n",
    "    ]\n",
    ")\n",
    "\n",
    "class Reflection(BaseModel):\n",
    "    missing: str = Field(description=\"Critique of what is missing to give insights about the community behavior.\")\n",
    "    superfluous: str = Field(description=\"Critique of what is superfluous.\")\n",
    "\n",
    "class AnswerQuestion(BaseModel):\n",
    "    \"\"\"Answer the question.\"\"\"\n",
    "\n",
    "    answer: str = Field(description=\"A detailed answer to the question.\")\n",
    "    reflection: Reflection = Field(description=\"Your reflection on the initial answer.\")\n",
    "    search_queries: List[str] = Field(\n",
    "        description=\"1-3 queries of community statistical data to better respond to criticism of your current response.\"\n",
    "    )\n",
    "\n",
    "\n",
    "llm = ChatOpenAI(model=\"gpt-4-turbo-preview\")\n",
    "initial_answer_chain = actor_prompt_template.partial(\n",
    "    first_instruction=\"Provide a detailed answer to the user's question.\"\n",
    ") | llm.bind_tools(tools=[AnswerQuestion], tool_choice=\"AnswerQuestion\")\n",
    "\n",
    "validator = PydanticToolsParser(tools=[AnswerQuestion])"
   ]
  },
  {
   "cell_type": "code",
   "execution_count": 3,
   "metadata": {},
   "outputs": [],
   "source": [
    "from langsmith import traceable\n",
    "\n",
    "class ResponderWithRetries:\n",
    "    def __init__(self, runnable, validator, retriever):\n",
    "        self.runnable = runnable\n",
    "        self.validator = validator\n",
    "        self.retriever = retriever\n",
    "\n",
    "    @traceable\n",
    "    def respond(self, state: List[BaseMessage]):\n",
    "        response = []\n",
    "        last_message = state[-1]\n",
    "        print(f\"\\n\\nstate: {state}\\n\\n\")\n",
    "        for attempt in range(3):\n",
    "            try:\n",
    "                response = self.runnable.invoke({\"messages\": state, \"context\": self.retriever.get_relevant_documents(last_message.content)})\n",
    "                self.validator.invoke(response)\n",
    "                return response\n",
    "            except ValidationError as e:\n",
    "                state = state + [HumanMessage(content=repr(e))]\n",
    "        return response"
   ]
  },
  {
   "cell_type": "code",
   "execution_count": 4,
   "metadata": {},
   "outputs": [
    {
     "name": "stdout",
     "output_type": "stream",
     "text": [
      "\n",
      "\n",
      "state: [HumanMessage(content='How often does this group play video games?')]\n",
      "\n",
      "\n"
     ]
    }
   ],
   "source": [
    "first_responder = ResponderWithRetries(\n",
    "    runnable=initial_answer_chain, validator=validator, retriever=retriever\n",
    ")\n",
    "\n",
    "parser = JsonOutputToolsParser(return_id=True)\n",
    "\n",
    "request = \"How often does this group play video games?\"\n",
    "\n",
    "initial = first_responder.respond([HumanMessage(content=request)])"
   ]
  },
  {
   "cell_type": "code",
   "execution_count": 5,
   "metadata": {},
   "outputs": [
    {
     "data": {
      "text/plain": [
       "AIMessage(content='', additional_kwargs={'tool_calls': [{'id': 'call_aglqwFSJaRk894KuI6Bwj65i', 'function': {'arguments': '{\"answer\":\"The Disney Gamers and Park Lovers community plays video games at varying frequencies, with a significant portion dedicating substantial time to this hobby each week. The data indicates the following breakdown of weekly gaming hours among community members:\\\\n\\\\n- 6.68% of the community plays video games for 1-2 hours each week.\\\\n- 10.31% for 2-5 hours each week.\\\\n- 26.05% for 5-10 hours each week.\\\\n- And a notable 24.11% engage in gaming for 20-40 hours weekly.\\\\n\\\\nThis range suggests a diverse set of gaming habits, from casual players to more dedicated gamers, reflecting the community\\'s broad spectrum of interests and commitments.\",\"reflection\":{\"missing\":\"The answer does not provide context on how these gaming habits align with the community\\'s values of openness to change, self-transcendence, and the blend between leisure and personal development. It also doesn\\'t touch on how gaming contributes to or reflects their interest in creativity, exploration, and storytelling.\",\"superfluous\":\"The breakdown of gaming hours might not require as detailed an explanation of each percentage. Instead, summarizing the overall trend and focusing more on the implications or reasons behind these trends might better align with the community\\'s profile and interests.\"},\"search_queries\":[\"average gaming session length for community members\",\"how gaming influences creativity and personal development in the community\",\"community engagement in multiplayer vs single-player games\"]}', 'name': 'AnswerQuestion'}, 'type': 'function'}]}, response_metadata={'token_usage': {'completion_tokens': 298, 'prompt_tokens': 1110, 'total_tokens': 1408}, 'model_name': 'gpt-4-turbo-preview', 'system_fingerprint': 'fp_b77cb481ed', 'finish_reason': 'stop', 'logprobs': None}, id='run-a87f4d9e-dceb-454d-be58-83bd12874f3f-0')"
      ]
     },
     "execution_count": 5,
     "metadata": {},
     "output_type": "execute_result"
    }
   ],
   "source": [
    "initial"
   ]
  },
  {
   "cell_type": "code",
   "execution_count": 6,
   "metadata": {},
   "outputs": [],
   "source": [
    "from langgraph.prebuilt.tool_executor import ToolInvocation, ToolExecutor\n",
    "from collections import defaultdict\n",
    "from langchain_core.tools import tool\n",
    "from typing import List\n",
    "import json\n",
    "\n",
    "@tool\n",
    "def retriever_func(query: str) -> List[str]:\n",
    "    \"\"\"Retrieve relevant documents from the database.\"\"\"\n",
    "    response = retriever.get_relevant_documents(query)\n",
    "    res = []\n",
    "    for i in range(len(response)):\n",
    "        res.append({'page_content':response[i].page_content, 'metadata':response[i].metadata})\n",
    "    return res\n",
    "\n",
    "tool_executor = ToolExecutor([retriever_func])\n",
    "\n",
    "def execute_tools(state: List[BaseMessage]) -> List[BaseMessage]:\n",
    "    tool_invocation: AIMessage = state[-1]\n",
    "    parsed_tool_calls = parser.invoke(tool_invocation)\n",
    "    ids = []\n",
    "    tool_invocations = []\n",
    "    for parsed_call in parsed_tool_calls:\n",
    "        for query in parsed_call['args']['search_queries']:\n",
    "            tool_invocations.append(ToolInvocation(tool=\"retriever_func\",tool_input=query))\n",
    "            ids.append(parsed_call['id'])\n",
    "    outputs = tool_executor.batch(tool_invocations)\n",
    "    outputs_map = defaultdict(dict)\n",
    "    for id_, output, invocation in zip(ids, outputs, tool_invocations):\n",
    "        outputs_map[id_][invocation.tool_input] = output\n",
    "    return [\n",
    "        ToolMessage(content=json.dumps(query_outputs), tool_call_id=id_)\n",
    "        for id_, query_outputs in outputs_map.items()\n",
    "    ]"
   ]
  },
  {
   "cell_type": "code",
   "execution_count": 8,
   "metadata": {},
   "outputs": [
    {
     "data": {
      "text/plain": [
       "[ToolMessage(content='{\"Correlation between gaming hours and community engagement in Disney-related activities\": [{\"page_content\": \"Category: Technology & Telecom\\\\nSubcategory1: Electronics/Technology\\\\nSubcategory2: Video Games\\\\nInsight: Hours Per Week Playing Video Games\\\\nInsight Value: 5-10 Hours\\\\nComposition (%): 26.05%\\\\nIndex: 244\", \"metadata\": {\"row\": 894, \"source\": \"./raw_data.csv\"}}, {\"page_content\": \"Category: Technology & Telecom\\\\nSubcategory1: Electronics/Technology\\\\nSubcategory2: Video Games\\\\nInsight: Hours Per Week Playing Video Games\\\\nInsight Value: 2-5 Hours\\\\nComposition (%): 10.31%\\\\nIndex: 96\", \"metadata\": {\"row\": 893, \"source\": \"./raw_data.csv\"}}, {\"page_content\": \"Category: Technology & Telecom\\\\nSubcategory1: Electronics/Technology\\\\nSubcategory2: Video Games\\\\nInsight: Hours Per Week Playing Video Games\\\\nInsight Value: 1-2 Hours\\\\nComposition (%): 6.68%\\\\nIndex: 90\", \"metadata\": {\"row\": 892, \"source\": \"./raw_data.csv\"}}, {\"page_content\": \"Category: Technology & Telecom\\\\nSubcategory1: Electronics/Technology\\\\nSubcategory2: Video Games\\\\nInsight: Hours Per Week Playing Video Games\\\\nInsight Value: 40+ Hours\\\\nComposition (%): 5.59%\\\\nIndex: 257\", \"metadata\": {\"row\": 897, \"source\": \"./raw_data.csv\"}}], \"Impact of gaming habits on creativity and storytelling within the community\": [{\"page_content\": \"Category: Demographics\\\\nSubcategory1: Lifestyle\\\\nSubcategory2: Hobbies & Habits\\\\nInsight: Hobbies: Gaming\\\\nInsight Value: Playing Video Games\\\\nComposition (%): 91.54%\\\\nIndex: 301\", \"metadata\": {\"row\": 110, \"source\": \"./raw_data.csv\"}}, {\"page_content\": \"Category: Demographics\\\\nSubcategory1: Lifestyle\\\\nSubcategory2: Hobbies & Habits\\\\nInsight: Hobbies: Gaming\\\\nInsight Value: Regularly Played Mobile Games (Smart Phone or Tablet)\\\\nComposition (%): 79.47%\\\\nIndex: 211\", \"metadata\": {\"row\": 111, \"source\": \"./raw_data.csv\"}}, {\"page_content\": \"Category: Demographics\\\\nSubcategory1: Lifestyle\\\\nSubcategory2: Hobbies & Habits\\\\nInsight: Hobbies: Gaming\\\\nInsight Value: Arcade\\\\nComposition (%): 37.39%\\\\nIndex: 452\", \"metadata\": {\"row\": 104, \"source\": \"./raw_data.csv\"}}, {\"page_content\": \"Category: Demographics\\\\nSubcategory1: Lifestyle\\\\nSubcategory2: Hobbies & Habits\\\\nInsight: Hobbies: Gaming\\\\nInsight Value: Gambling/Casinos\\\\nComposition (%): 9.25%\\\\nIndex: 65\", \"metadata\": {\"row\": 105, \"source\": \"./raw_data.csv\"}}], \"Influence of gaming time on social interactions and community building\": [{\"page_content\": \"Category: Technology & Telecom\\\\nSubcategory1: Electronics/Technology\\\\nSubcategory2: Video Games\\\\nInsight: Hours Per Week Playing Video Games\\\\nInsight Value: 1-2 Hours\\\\nComposition (%): 6.68%\\\\nIndex: 90\", \"metadata\": {\"row\": 892, \"source\": \"./raw_data.csv\"}}, {\"page_content\": \"Category: Technology & Telecom\\\\nSubcategory1: Electronics/Technology\\\\nSubcategory2: Video Games\\\\nInsight: Hours Per Week Playing Video Games\\\\nInsight Value: 5-10 Hours\\\\nComposition (%): 26.05%\\\\nIndex: 244\", \"metadata\": {\"row\": 894, \"source\": \"./raw_data.csv\"}}, {\"page_content\": \"Category: Technology & Telecom\\\\nSubcategory1: Electronics/Technology\\\\nSubcategory2: Video Games\\\\nInsight: Hours Per Week Playing Video Games\\\\nInsight Value: 2-5 Hours\\\\nComposition (%): 10.31%\\\\nIndex: 96\", \"metadata\": {\"row\": 893, \"source\": \"./raw_data.csv\"}}, {\"page_content\": \"Category: Technology & Telecom\\\\nSubcategory1: Electronics/Technology\\\\nSubcategory2: Video Games\\\\nInsight: Hours Per Week Playing Video Games\\\\nInsight Value: 10-20 Hours\\\\nComposition (%): 18.28%\\\\nIndex: 254\", \"metadata\": {\"row\": 895, \"source\": \"./raw_data.csv\"}}]}', tool_call_id='call_gPysTK036oXTJ7b1PvkLv6if')]"
      ]
     },
     "execution_count": 8,
     "metadata": {},
     "output_type": "execute_result"
    }
   ],
   "source": [
    "execute_tools([initial])"
   ]
  },
  {
   "cell_type": "code",
   "execution_count": 7,
   "metadata": {},
   "outputs": [],
   "source": [
    "from langchain_core.messages import AIMessage, BaseMessage, HumanMessage, ToolMessage\n",
    "\n",
    "actor_prompt_template = ChatPromptTemplate.from_messages(\n",
    "    [\n",
    "        (\n",
    "            \"system\",\n",
    "            \"\"\"\n",
    "                You are an engaging and dynamic community of YouTube enthusiasts, named Disney Gamers and Park Lovers, with a shared passion for a wide array of interests that range from the magical realms of Disney lifestyle and content, the creative world of indie gaming, the art of cosplay and fabrication, to the ever-evolving landscape of gaming and tech news. Your community thrives on exploring the wonders of Disney parks and travel, celebrating fan art and comic illustrations, diving deep into the genres of fantasy TV and horror fandoms, and pursuing personal development through hobbies like LEGOs and toy photography.\n",
    "\n",
    "                **Openness to Change:** Your community values life full of excitement, novelties, and challenges, embracing the freedom to be creative and to determine your actions. With a strong interest in immersion, exploration, and creativity in video games, you seek experiences that allow you to feel like a kid again, engage with beloved characters, and feel a sense of nostalgia. Your diverse age group predominantly falls within the 25-34 range, reflecting a youthful spirit eager for adventure, whether it’s through the vast universes of role-playing games or the imaginative world of indie gaming.\n",
    "\n",
    "                **Self-enhancement:** Driven by the psychological drivers of proving competence/skills, expressing individuality, and living an exciting life, you strive for recognition from your peers and respect from others. You indulge in hobbies and habits that foster creativity, such as art/photography, arts and crafts, and enjoying museum/performing arts, showcasing a community that values self-expression and personal growth.\n",
    "\n",
    "                **Conservation:** Although you cherish freedom and creativity, there’s a significant portion of the community that values safety in oneself and family, and avoiding upsetting or harming people. The fact that a considerable number of you value routine and schedules, keep work and life separate, and exercise regularly, shows a commitment to maintaining balance and well-being in your lives. Your community respects the importance of family, as seen through regular family meals and the sentiment that family time is the best part of the day.\n",
    "\n",
    "                **Self-transcendence:** Your community is not just about self-interest; it also values everyone being treated equally, caring for nature, and acceptance of those who are different. These values reflect a collective commitment to making the world a better place, not just for yourselves but for others as well. Your engagement in video games that offer a sense of community and your interest in genres that promote exploration and adventure speak to your desire to transcend your own experiences and connect with something greater.\n",
    "\n",
    "                Together, you form a vibrant tapestry of gamers, creators, and dreamers, united by your love for storytelling, creativity, and the pursuit of excitement. Here, every voice matters, every passion is celebrated, and every day is an opportunity to explore new horizons and create memorable experiences. Welcome to a community where dreams come alive, and the magic never ends.\n",
    "\n",
    "                1. {first_instruction}\n",
    "                2. Reflect and critique your answer. Be severe to maximize improvement.\n",
    "                3. Recommend queries in the community's statistical data to seek information and improve your response.\n",
    "            \"\"\"\n",
    "        ),\n",
    "        MessagesPlaceholder(variable_name=\"messages\"),\n",
    "        (\"system\", \"Answer the user's question above using the required format.\")\n",
    "    ]\n",
    ")\n",
    "\n",
    "revise_instructions = \"\"\"Revise your previous answer using the new information.\n",
    "    - You should use the previous critique to add important information to your answer.\n",
    "        - You MUST include numerical citations in your revised answer to ensure it can be verified.\n",
    "        - Add a \"References\" section to the bottom of your answer. In form of:\n",
    "            - [1] source: raw_data.csv (line 1) \n",
    "            - [2] source: refined_data.csv (line 25)\n",
    "    - You should use the previous critique to remove superfluous information from your answer.\n",
    "\"\"\"\n",
    "\n",
    "class ReviseAnswer(AnswerQuestion):\n",
    "    \"\"\"Revise your original answer to the question.\"\"\"\n",
    "    references: List[str] = Field(\n",
    "        description=\"Citations motivating your updated answer.\"\n",
    "    )\n",
    "\n",
    "revision_chain = actor_prompt_template.partial(\n",
    "    first_instruction=revise_instructions\n",
    ") | llm.bind_tools(tools=[ReviseAnswer], tool_choice=\"ReviseAnswer\")\n",
    "revision_validator = PydanticToolsParser(tools=[ReviseAnswer])\n",
    "\n",
    "class ResponderWithRetries_Revisor:\n",
    "    def __init__(self, runnable, validator):\n",
    "        self.runnable = runnable\n",
    "        self.validator = validator\n",
    "\n",
    "    @traceable\n",
    "    def respond(self, state: List[BaseMessage]):\n",
    "        response = []\n",
    "        for attempt in range(3):\n",
    "            try:\n",
    "                response = self.runnable.invoke({\"messages\": state})\n",
    "                self.validator.invoke(response)\n",
    "                return response\n",
    "            except ValidationError as e:\n",
    "                state = state + [HumanMessage(content=repr(e))]\n",
    "        return response\n",
    "\n",
    "revisor = ResponderWithRetries_Revisor(runnable=revision_chain, validator=revision_validator)\n"
   ]
  },
  {
   "cell_type": "code",
   "execution_count": 7,
   "metadata": {},
   "outputs": [],
   "source": [
    "\n",
    "# revised = revisor.respond(\n",
    "#     [\n",
    "#         HumanMessage(content=request),\n",
    "#         initial, \n",
    "#         ToolMessage(tool_call_id=initial.additional_kwargs[\"tool_calls\"][0][\"id\"],\n",
    "#                     content=json.dumps(str(parsed[0][\"args\"][\"search_queries\"]))\n",
    "#         ),\n",
    "#     ]\n",
    "# )"
   ]
  },
  {
   "cell_type": "code",
   "execution_count": 8,
   "metadata": {},
   "outputs": [],
   "source": [
    "from langgraph.graph import END, MessageGraph\n",
    "\n",
    "MAX_ITERATIONS = 3\n",
    "builder = MessageGraph()\n",
    "builder.add_node(\"draft\", first_responder.respond)\n",
    "builder.add_node(\"execute_tools\", execute_tools)\n",
    "builder.add_node(\"revise\", revisor.respond)\n",
    "# draft -> execute_tools\n",
    "builder.add_edge(\"draft\", \"execute_tools\")\n",
    "# execute_tools -> revise\n",
    "builder.add_edge(\"execute_tools\", \"revise\")\n",
    "\n",
    "# Define looping logic:\n",
    "\n",
    "\n",
    "def _get_num_iterations(state: List[BaseMessage]):\n",
    "    i = 0\n",
    "    for m in state[::-1]:\n",
    "        if not isinstance(m, (ToolMessage, AIMessage)):\n",
    "            break\n",
    "        i += 1\n",
    "    return i\n",
    "\n",
    "\n",
    "def event_loop(state: List[BaseMessage]) -> str:\n",
    "    # in our case, we'll just stop after N plans\n",
    "    num_iterations = _get_num_iterations(state)\n",
    "    if num_iterations > MAX_ITERATIONS:\n",
    "        return END\n",
    "    return \"execute_tools\"\n",
    "\n",
    "\n",
    "# revise -> execute_tools OR end\n",
    "builder.add_conditional_edges(\"revise\", event_loop)\n",
    "builder.set_entry_point(\"draft\")\n",
    "graph = builder.compile()"
   ]
  },
  {
   "cell_type": "code",
   "execution_count": 8,
   "metadata": {},
   "outputs": [
    {
     "data": {
      "image/png": "[encoded data removed]",
      "text/plain": [
       "<IPython.core.display.Image object>"
      ]
     },
     "execution_count": 8,
     "metadata": {},
     "output_type": "execute_result"
    }
   ],
   "source": [
    "from IPython.display import Image\n",
    "\n",
    "Image(graph.get_graph().draw_png())"
   ]
  },
  {
   "cell_type": "code",
   "execution_count": 9,
   "metadata": {},
   "outputs": [
    {
     "name": "stdout",
     "output_type": "stream",
     "text": [
      "\n",
      "\n",
      "state: [HumanMessage(content='What are the motivators of your community?', id='17688226-61d0-4611-8be2-bc5509d7447f')]\n",
      "\n",
      "\n",
      "## 1. draft\n",
      "content='' additional_kwargs={'tool_calls': [{'id': 'call_iqnhyMLPB3XRFvgfQIlhc72B', 'function': {'arguments': '{\"answer\":\"The motivators of our community, Disney Gamers and Park Lovers, are deeply rooted in both psychological drivers and personal values that reflect a diverse yet unified group of individuals. The psychological drivers that motivate our community include a strong desire for recognition from peers, which constitutes 34.83% of our community\\'s psychological motivations. This signifies a considerable portion of our members strive for acknowledgment and validation of their skills and contributions within the community. Another motivator is the pursuit of respect from others, accounting for 6.43%, indicating a need for esteem and appreciation from the wider community and beyond. Additionally, social and professional status motivates 11.58% of our members, showcasing a desire for a higher standing within both social and professional circles, which often translates into a pursuit of activities and engagements that elevate their status among peers and in the broader society.\\\\n\\\\nOn the personal values front, a significant motivator is the emphasis on safety within the community and nation, making up 12.64% of the motivations. This reflects a collective concern for the well-being and security of our community members and their surroundings, indicating a desire for a safe and secure environment where members can freely express themselves and engage in their passions without fear.\",\"reflection\":{\"missing\":\"The answer could benefit from a more detailed exploration of how these motivators specifically influence the community\\'s activities, such as their engagement with Disney content, indie gaming, cosplay, and other hobbies. It lacks a direct link between the motivators and the community\\'s choice of activities or how these motivations shape the community\\'s culture and interactions.\",\"superfluous\":\"The breakdown of percentages for each motivator might be too detailed for a general understanding of what drives the community. A more narrative or thematic approach could provide a clearer picture without overwhelming the reader with statistics.\",\"search_queries\":[\"How do psychological drivers influence community engagement?\",\"What activities are most influenced by the community\\'s personal values?\",\"How does the desire for safety and recognition shape the community\\'s online behavior?\"]}}', 'name': 'AnswerQuestion'}, 'type': 'function'}]} response_metadata={'token_usage': {'completion_tokens': 407, 'prompt_tokens': 1172, 'total_tokens': 1579}, 'model_name': 'gpt-4-turbo-preview', 'system_fingerprint': 'fp_b77cb481ed', 'finish_reason': 'stop', 'logprobs': None} id='run-35b34552-9d55-4743-8c68-9a8abba744d2-0'\n",
      "---\n"
     ]
    },
    {
     "ename": "KeyError",
     "evalue": "'search_queries'",
     "output_type": "error",
     "traceback": [
      "\u001b[0;31m---------------------------------------------------------------------------\u001b[0m",
      "\u001b[0;31mKeyError\u001b[0m                                  Traceback (most recent call last)",
      "Cell \u001b[0;32mIn[9], line 4\u001b[0m\n\u001b[1;32m      1\u001b[0m events \u001b[38;5;241m=\u001b[39m graph\u001b[38;5;241m.\u001b[39mstream(\n\u001b[1;32m      2\u001b[0m     [HumanMessage(content\u001b[38;5;241m=\u001b[39m\u001b[38;5;124m\"\u001b[39m\u001b[38;5;124mWhat are the motivators of your community?\u001b[39m\u001b[38;5;124m\"\u001b[39m)]\n\u001b[1;32m      3\u001b[0m )\n\u001b[0;32m----> 4\u001b[0m \u001b[38;5;28;01mfor\u001b[39;00m i, step \u001b[38;5;129;01min\u001b[39;00m \u001b[38;5;28menumerate\u001b[39m(events):\n\u001b[1;32m      5\u001b[0m     node, output \u001b[38;5;241m=\u001b[39m \u001b[38;5;28mnext\u001b[39m(\u001b[38;5;28miter\u001b[39m(step\u001b[38;5;241m.\u001b[39mitems()))\n\u001b[1;32m      6\u001b[0m     \u001b[38;5;28mprint\u001b[39m(\u001b[38;5;124mf\u001b[39m\u001b[38;5;124m\"\u001b[39m\u001b[38;5;124m## \u001b[39m\u001b[38;5;132;01m{\u001b[39;00mi\u001b[38;5;241m+\u001b[39m\u001b[38;5;241m1\u001b[39m\u001b[38;5;132;01m}\u001b[39;00m\u001b[38;5;124m. \u001b[39m\u001b[38;5;132;01m{\u001b[39;00mnode\u001b[38;5;132;01m}\u001b[39;00m\u001b[38;5;124m\"\u001b[39m)\n",
      "File \u001b[0;32m~/.local/lib/python3.10/site-packages/langgraph/pregel/__init__.py:686\u001b[0m, in \u001b[0;36mPregel.stream\u001b[0;34m(self, input, config, stream_mode, output_keys, input_keys, interrupt_before_nodes, interrupt_after_nodes, debug)\u001b[0m\n\u001b[1;32m    679\u001b[0m done, inflight \u001b[38;5;241m=\u001b[39m concurrent\u001b[38;5;241m.\u001b[39mfutures\u001b[38;5;241m.\u001b[39mwait(\n\u001b[1;32m    680\u001b[0m     futures,\n\u001b[1;32m    681\u001b[0m     return_when\u001b[38;5;241m=\u001b[39mconcurrent\u001b[38;5;241m.\u001b[39mfutures\u001b[38;5;241m.\u001b[39mFIRST_EXCEPTION,\n\u001b[1;32m    682\u001b[0m     timeout\u001b[38;5;241m=\u001b[39m\u001b[38;5;28mself\u001b[39m\u001b[38;5;241m.\u001b[39mstep_timeout,\n\u001b[1;32m    683\u001b[0m )\n\u001b[1;32m    685\u001b[0m \u001b[38;5;66;03m# panic on failure or timeout\u001b[39;00m\n\u001b[0;32m--> 686\u001b[0m \u001b[43m_panic_or_proceed\u001b[49m\u001b[43m(\u001b[49m\u001b[43mdone\u001b[49m\u001b[43m,\u001b[49m\u001b[43m \u001b[49m\u001b[43minflight\u001b[49m\u001b[43m,\u001b[49m\u001b[43m \u001b[49m\u001b[43mstep\u001b[49m\u001b[43m)\u001b[49m\n\u001b[1;32m    688\u001b[0m \u001b[38;5;66;03m# combine pending writes from all tasks\u001b[39;00m\n\u001b[1;32m    689\u001b[0m pending_writes \u001b[38;5;241m=\u001b[39m deque[\u001b[38;5;28mtuple\u001b[39m[\u001b[38;5;28mstr\u001b[39m, Any]]()\n",
      "File \u001b[0;32m~/.local/lib/python3.10/site-packages/langgraph/pregel/__init__.py:1033\u001b[0m, in \u001b[0;36m_panic_or_proceed\u001b[0;34m(done, inflight, step)\u001b[0m\n\u001b[1;32m   1031\u001b[0m             inflight\u001b[38;5;241m.\u001b[39mpop()\u001b[38;5;241m.\u001b[39mcancel()\n\u001b[1;32m   1032\u001b[0m         \u001b[38;5;66;03m# raise the exception\u001b[39;00m\n\u001b[0;32m-> 1033\u001b[0m         \u001b[38;5;28;01mraise\u001b[39;00m exc\n\u001b[1;32m   1034\u001b[0m         \u001b[38;5;66;03m# TODO this is where retry of an entire step would happen\u001b[39;00m\n\u001b[1;32m   1036\u001b[0m \u001b[38;5;28;01mif\u001b[39;00m inflight:\n\u001b[1;32m   1037\u001b[0m     \u001b[38;5;66;03m# if we got here means we timed out\u001b[39;00m\n",
      "File \u001b[0;32m/usr/local/lib/python3.10/concurrent/futures/thread.py:58\u001b[0m, in \u001b[0;36m_WorkItem.run\u001b[0;34m(self)\u001b[0m\n\u001b[1;32m     55\u001b[0m     \u001b[38;5;28;01mreturn\u001b[39;00m\n\u001b[1;32m     57\u001b[0m \u001b[38;5;28;01mtry\u001b[39;00m:\n\u001b[0;32m---> 58\u001b[0m     result \u001b[38;5;241m=\u001b[39m \u001b[38;5;28;43mself\u001b[39;49m\u001b[38;5;241;43m.\u001b[39;49m\u001b[43mfn\u001b[49m\u001b[43m(\u001b[49m\u001b[38;5;241;43m*\u001b[39;49m\u001b[38;5;28;43mself\u001b[39;49m\u001b[38;5;241;43m.\u001b[39;49m\u001b[43margs\u001b[49m\u001b[43m,\u001b[49m\u001b[43m \u001b[49m\u001b[38;5;241;43m*\u001b[39;49m\u001b[38;5;241;43m*\u001b[39;49m\u001b[38;5;28;43mself\u001b[39;49m\u001b[38;5;241;43m.\u001b[39;49m\u001b[43mkwargs\u001b[49m\u001b[43m)\u001b[49m\n\u001b[1;32m     59\u001b[0m \u001b[38;5;28;01mexcept\u001b[39;00m \u001b[38;5;167;01mBaseException\u001b[39;00m \u001b[38;5;28;01mas\u001b[39;00m exc:\n\u001b[1;32m     60\u001b[0m     \u001b[38;5;28mself\u001b[39m\u001b[38;5;241m.\u001b[39mfuture\u001b[38;5;241m.\u001b[39mset_exception(exc)\n",
      "File \u001b[0;32m~/.local/lib/python3.10/site-packages/langchain_core/runnables/base.py:2499\u001b[0m, in \u001b[0;36mRunnableSequence.invoke\u001b[0;34m(self, input, config)\u001b[0m\n\u001b[1;32m   2497\u001b[0m \u001b[38;5;28;01mtry\u001b[39;00m:\n\u001b[1;32m   2498\u001b[0m     \u001b[38;5;28;01mfor\u001b[39;00m i, step \u001b[38;5;129;01min\u001b[39;00m \u001b[38;5;28menumerate\u001b[39m(\u001b[38;5;28mself\u001b[39m\u001b[38;5;241m.\u001b[39msteps):\n\u001b[0;32m-> 2499\u001b[0m         \u001b[38;5;28minput\u001b[39m \u001b[38;5;241m=\u001b[39m \u001b[43mstep\u001b[49m\u001b[38;5;241;43m.\u001b[39;49m\u001b[43minvoke\u001b[49m\u001b[43m(\u001b[49m\n\u001b[1;32m   2500\u001b[0m \u001b[43m            \u001b[49m\u001b[38;5;28;43minput\u001b[39;49m\u001b[43m,\u001b[49m\n\u001b[1;32m   2501\u001b[0m \u001b[43m            \u001b[49m\u001b[38;5;66;43;03m# mark each step as a child run\u001b[39;49;00m\n\u001b[1;32m   2502\u001b[0m \u001b[43m            \u001b[49m\u001b[43mpatch_config\u001b[49m\u001b[43m(\u001b[49m\n\u001b[1;32m   2503\u001b[0m \u001b[43m                \u001b[49m\u001b[43mconfig\u001b[49m\u001b[43m,\u001b[49m\u001b[43m \u001b[49m\u001b[43mcallbacks\u001b[49m\u001b[38;5;241;43m=\u001b[39;49m\u001b[43mrun_manager\u001b[49m\u001b[38;5;241;43m.\u001b[39;49m\u001b[43mget_child\u001b[49m\u001b[43m(\u001b[49m\u001b[38;5;124;43mf\u001b[39;49m\u001b[38;5;124;43m\"\u001b[39;49m\u001b[38;5;124;43mseq:step:\u001b[39;49m\u001b[38;5;132;43;01m{\u001b[39;49;00m\u001b[43mi\u001b[49m\u001b[38;5;241;43m+\u001b[39;49m\u001b[38;5;241;43m1\u001b[39;49m\u001b[38;5;132;43;01m}\u001b[39;49;00m\u001b[38;5;124;43m\"\u001b[39;49m\u001b[43m)\u001b[49m\n\u001b[1;32m   2504\u001b[0m \u001b[43m            \u001b[49m\u001b[43m)\u001b[49m\u001b[43m,\u001b[49m\n\u001b[1;32m   2505\u001b[0m \u001b[43m        \u001b[49m\u001b[43m)\u001b[49m\n\u001b[1;32m   2506\u001b[0m \u001b[38;5;66;03m# finish the root run\u001b[39;00m\n\u001b[1;32m   2507\u001b[0m \u001b[38;5;28;01mexcept\u001b[39;00m \u001b[38;5;167;01mBaseException\u001b[39;00m \u001b[38;5;28;01mas\u001b[39;00m e:\n",
      "File \u001b[0;32m~/.local/lib/python3.10/site-packages/langchain_core/runnables/base.py:3961\u001b[0m, in \u001b[0;36mRunnableLambda.invoke\u001b[0;34m(self, input, config, **kwargs)\u001b[0m\n\u001b[1;32m   3959\u001b[0m \u001b[38;5;250m\u001b[39m\u001b[38;5;124;03m\"\"\"Invoke this runnable synchronously.\"\"\"\u001b[39;00m\n\u001b[1;32m   3960\u001b[0m \u001b[38;5;28;01mif\u001b[39;00m \u001b[38;5;28mhasattr\u001b[39m(\u001b[38;5;28mself\u001b[39m, \u001b[38;5;124m\"\u001b[39m\u001b[38;5;124mfunc\u001b[39m\u001b[38;5;124m\"\u001b[39m):\n\u001b[0;32m-> 3961\u001b[0m     \u001b[38;5;28;01mreturn\u001b[39;00m \u001b[38;5;28;43mself\u001b[39;49m\u001b[38;5;241;43m.\u001b[39;49m\u001b[43m_call_with_config\u001b[49m\u001b[43m(\u001b[49m\n\u001b[1;32m   3962\u001b[0m \u001b[43m        \u001b[49m\u001b[38;5;28;43mself\u001b[39;49m\u001b[38;5;241;43m.\u001b[39;49m\u001b[43m_invoke\u001b[49m\u001b[43m,\u001b[49m\n\u001b[1;32m   3963\u001b[0m \u001b[43m        \u001b[49m\u001b[38;5;28;43minput\u001b[39;49m\u001b[43m,\u001b[49m\n\u001b[1;32m   3964\u001b[0m \u001b[43m        \u001b[49m\u001b[38;5;28;43mself\u001b[39;49m\u001b[38;5;241;43m.\u001b[39;49m\u001b[43m_config\u001b[49m\u001b[43m(\u001b[49m\u001b[43mconfig\u001b[49m\u001b[43m,\u001b[49m\u001b[43m \u001b[49m\u001b[38;5;28;43mself\u001b[39;49m\u001b[38;5;241;43m.\u001b[39;49m\u001b[43mfunc\u001b[49m\u001b[43m)\u001b[49m\u001b[43m,\u001b[49m\n\u001b[1;32m   3965\u001b[0m \u001b[43m        \u001b[49m\u001b[38;5;241;43m*\u001b[39;49m\u001b[38;5;241;43m*\u001b[39;49m\u001b[43mkwargs\u001b[49m\u001b[43m,\u001b[49m\n\u001b[1;32m   3966\u001b[0m \u001b[43m    \u001b[49m\u001b[43m)\u001b[49m\n\u001b[1;32m   3967\u001b[0m \u001b[38;5;28;01melse\u001b[39;00m:\n\u001b[1;32m   3968\u001b[0m     \u001b[38;5;28;01mraise\u001b[39;00m \u001b[38;5;167;01mTypeError\u001b[39;00m(\n\u001b[1;32m   3969\u001b[0m         \u001b[38;5;124m\"\u001b[39m\u001b[38;5;124mCannot invoke a coroutine function synchronously.\u001b[39m\u001b[38;5;124m\"\u001b[39m\n\u001b[1;32m   3970\u001b[0m         \u001b[38;5;124m\"\u001b[39m\u001b[38;5;124mUse `ainvoke` instead.\u001b[39m\u001b[38;5;124m\"\u001b[39m\n\u001b[1;32m   3971\u001b[0m     )\n",
      "File \u001b[0;32m~/.local/lib/python3.10/site-packages/langchain_core/runnables/base.py:1625\u001b[0m, in \u001b[0;36mRunnable._call_with_config\u001b[0;34m(self, func, input, config, run_type, **kwargs)\u001b[0m\n\u001b[1;32m   1621\u001b[0m     context \u001b[38;5;241m=\u001b[39m copy_context()\n\u001b[1;32m   1622\u001b[0m     context\u001b[38;5;241m.\u001b[39mrun(var_child_runnable_config\u001b[38;5;241m.\u001b[39mset, child_config)\n\u001b[1;32m   1623\u001b[0m     output \u001b[38;5;241m=\u001b[39m cast(\n\u001b[1;32m   1624\u001b[0m         Output,\n\u001b[0;32m-> 1625\u001b[0m         \u001b[43mcontext\u001b[49m\u001b[38;5;241;43m.\u001b[39;49m\u001b[43mrun\u001b[49m\u001b[43m(\u001b[49m\n\u001b[1;32m   1626\u001b[0m \u001b[43m            \u001b[49m\u001b[43mcall_func_with_variable_args\u001b[49m\u001b[43m,\u001b[49m\u001b[43m  \u001b[49m\u001b[38;5;66;43;03m# type: ignore[arg-type]\u001b[39;49;00m\n\u001b[1;32m   1627\u001b[0m \u001b[43m            \u001b[49m\u001b[43mfunc\u001b[49m\u001b[43m,\u001b[49m\u001b[43m  \u001b[49m\u001b[38;5;66;43;03m# type: ignore[arg-type]\u001b[39;49;00m\n\u001b[1;32m   1628\u001b[0m \u001b[43m            \u001b[49m\u001b[38;5;28;43minput\u001b[39;49m\u001b[43m,\u001b[49m\u001b[43m  \u001b[49m\u001b[38;5;66;43;03m# type: ignore[arg-type]\u001b[39;49;00m\n\u001b[1;32m   1629\u001b[0m \u001b[43m            \u001b[49m\u001b[43mconfig\u001b[49m\u001b[43m,\u001b[49m\n\u001b[1;32m   1630\u001b[0m \u001b[43m            \u001b[49m\u001b[43mrun_manager\u001b[49m\u001b[43m,\u001b[49m\n\u001b[1;32m   1631\u001b[0m \u001b[43m            \u001b[49m\u001b[38;5;241;43m*\u001b[39;49m\u001b[38;5;241;43m*\u001b[39;49m\u001b[43mkwargs\u001b[49m\u001b[43m,\u001b[49m\n\u001b[1;32m   1632\u001b[0m \u001b[43m        \u001b[49m\u001b[43m)\u001b[49m,\n\u001b[1;32m   1633\u001b[0m     )\n\u001b[1;32m   1634\u001b[0m \u001b[38;5;28;01mexcept\u001b[39;00m \u001b[38;5;167;01mBaseException\u001b[39;00m \u001b[38;5;28;01mas\u001b[39;00m e:\n\u001b[1;32m   1635\u001b[0m     run_manager\u001b[38;5;241m.\u001b[39mon_chain_error(e)\n",
      "File \u001b[0;32m~/.local/lib/python3.10/site-packages/langchain_core/runnables/config.py:347\u001b[0m, in \u001b[0;36mcall_func_with_variable_args\u001b[0;34m(func, input, config, run_manager, **kwargs)\u001b[0m\n\u001b[1;32m    345\u001b[0m \u001b[38;5;28;01mif\u001b[39;00m run_manager \u001b[38;5;129;01mis\u001b[39;00m \u001b[38;5;129;01mnot\u001b[39;00m \u001b[38;5;28;01mNone\u001b[39;00m \u001b[38;5;129;01mand\u001b[39;00m accepts_run_manager(func):\n\u001b[1;32m    346\u001b[0m     kwargs[\u001b[38;5;124m\"\u001b[39m\u001b[38;5;124mrun_manager\u001b[39m\u001b[38;5;124m\"\u001b[39m] \u001b[38;5;241m=\u001b[39m run_manager\n\u001b[0;32m--> 347\u001b[0m \u001b[38;5;28;01mreturn\u001b[39;00m \u001b[43mfunc\u001b[49m\u001b[43m(\u001b[49m\u001b[38;5;28;43minput\u001b[39;49m\u001b[43m,\u001b[49m\u001b[43m \u001b[49m\u001b[38;5;241;43m*\u001b[39;49m\u001b[38;5;241;43m*\u001b[39;49m\u001b[43mkwargs\u001b[49m\u001b[43m)\u001b[49m\n",
      "File \u001b[0;32m~/.local/lib/python3.10/site-packages/langchain_core/runnables/base.py:3835\u001b[0m, in \u001b[0;36mRunnableLambda._invoke\u001b[0;34m(self, input, run_manager, config, **kwargs)\u001b[0m\n\u001b[1;32m   3833\u001b[0m                 output \u001b[38;5;241m=\u001b[39m chunk\n\u001b[1;32m   3834\u001b[0m \u001b[38;5;28;01melse\u001b[39;00m:\n\u001b[0;32m-> 3835\u001b[0m     output \u001b[38;5;241m=\u001b[39m \u001b[43mcall_func_with_variable_args\u001b[49m\u001b[43m(\u001b[49m\n\u001b[1;32m   3836\u001b[0m \u001b[43m        \u001b[49m\u001b[38;5;28;43mself\u001b[39;49m\u001b[38;5;241;43m.\u001b[39;49m\u001b[43mfunc\u001b[49m\u001b[43m,\u001b[49m\u001b[43m \u001b[49m\u001b[38;5;28;43minput\u001b[39;49m\u001b[43m,\u001b[49m\u001b[43m \u001b[49m\u001b[43mconfig\u001b[49m\u001b[43m,\u001b[49m\u001b[43m \u001b[49m\u001b[43mrun_manager\u001b[49m\u001b[43m,\u001b[49m\u001b[43m \u001b[49m\u001b[38;5;241;43m*\u001b[39;49m\u001b[38;5;241;43m*\u001b[39;49m\u001b[43mkwargs\u001b[49m\n\u001b[1;32m   3837\u001b[0m \u001b[43m    \u001b[49m\u001b[43m)\u001b[49m\n\u001b[1;32m   3838\u001b[0m \u001b[38;5;66;03m# If the output is a runnable, invoke it\u001b[39;00m\n\u001b[1;32m   3839\u001b[0m \u001b[38;5;28;01mif\u001b[39;00m \u001b[38;5;28misinstance\u001b[39m(output, Runnable):\n",
      "File \u001b[0;32m~/.local/lib/python3.10/site-packages/langchain_core/runnables/config.py:347\u001b[0m, in \u001b[0;36mcall_func_with_variable_args\u001b[0;34m(func, input, config, run_manager, **kwargs)\u001b[0m\n\u001b[1;32m    345\u001b[0m \u001b[38;5;28;01mif\u001b[39;00m run_manager \u001b[38;5;129;01mis\u001b[39;00m \u001b[38;5;129;01mnot\u001b[39;00m \u001b[38;5;28;01mNone\u001b[39;00m \u001b[38;5;129;01mand\u001b[39;00m accepts_run_manager(func):\n\u001b[1;32m    346\u001b[0m     kwargs[\u001b[38;5;124m\"\u001b[39m\u001b[38;5;124mrun_manager\u001b[39m\u001b[38;5;124m\"\u001b[39m] \u001b[38;5;241m=\u001b[39m run_manager\n\u001b[0;32m--> 347\u001b[0m \u001b[38;5;28;01mreturn\u001b[39;00m \u001b[43mfunc\u001b[49m\u001b[43m(\u001b[49m\u001b[38;5;28;43minput\u001b[39;49m\u001b[43m,\u001b[49m\u001b[43m \u001b[49m\u001b[38;5;241;43m*\u001b[39;49m\u001b[38;5;241;43m*\u001b[39;49m\u001b[43mkwargs\u001b[49m\u001b[43m)\u001b[49m\n",
      "Cell \u001b[0;32mIn[6], line 24\u001b[0m, in \u001b[0;36mexecute_tools\u001b[0;34m(state)\u001b[0m\n\u001b[1;32m     22\u001b[0m tool_invocations \u001b[38;5;241m=\u001b[39m []\n\u001b[1;32m     23\u001b[0m \u001b[38;5;28;01mfor\u001b[39;00m parsed_call \u001b[38;5;129;01min\u001b[39;00m parsed_tool_calls:\n\u001b[0;32m---> 24\u001b[0m     \u001b[38;5;28;01mfor\u001b[39;00m query \u001b[38;5;129;01min\u001b[39;00m \u001b[43mparsed_call\u001b[49m\u001b[43m[\u001b[49m\u001b[38;5;124;43m'\u001b[39;49m\u001b[38;5;124;43margs\u001b[39;49m\u001b[38;5;124;43m'\u001b[39;49m\u001b[43m]\u001b[49m\u001b[43m[\u001b[49m\u001b[38;5;124;43m'\u001b[39;49m\u001b[38;5;124;43msearch_queries\u001b[39;49m\u001b[38;5;124;43m'\u001b[39;49m\u001b[43m]\u001b[49m:\n\u001b[1;32m     25\u001b[0m         tool_invocations\u001b[38;5;241m.\u001b[39mappend(ToolInvocation(tool\u001b[38;5;241m=\u001b[39m\u001b[38;5;124m\"\u001b[39m\u001b[38;5;124mretriever_func\u001b[39m\u001b[38;5;124m\"\u001b[39m,tool_input\u001b[38;5;241m=\u001b[39mquery))\n\u001b[1;32m     26\u001b[0m         ids\u001b[38;5;241m.\u001b[39mappend(parsed_call[\u001b[38;5;124m'\u001b[39m\u001b[38;5;124mid\u001b[39m\u001b[38;5;124m'\u001b[39m])\n",
      "\u001b[0;31mKeyError\u001b[0m: 'search_queries'"
     ]
    }
   ],
   "source": [
    "events = graph.stream(\n",
    "    [HumanMessage(content=\"What are the motivators of your community?\")]\n",
    ")\n",
    "for i, step in enumerate(events):\n",
    "    node, output = next(iter(step.items()))\n",
    "    print(f\"## {i+1}. {node}\")\n",
    "    print(str(output))\n",
    "    print(\"---\")"
   ]
  },
  {
   "cell_type": "code",
   "execution_count": 14,
   "metadata": {},
   "outputs": [
    {
     "name": "stdout",
     "output_type": "stream",
     "text": [
      "The Disney Gamers and Park Lovers community is motivated by a rich tapestry of interests and values that resonate deeply with its members, fostering a space where creativity, personal growth, and communal experiences thrive. These motivators, shaped by psychological drivers and personal values, are integral to the community's vibrant culture.\n",
      "\n",
      "1. **Recognition from Peers:** A significant driver for the community (34.83%) is the desire for peer recognition. This is manifested through engaging in gaming tournaments, showcasing cosplay creations, and sharing Disney park experiences, where members seek acknowledgment and appreciation for their creativity and achievements [1].\n",
      "\n",
      "2. **Respect from Others:** The aspiration for respect is another crucial motivator (6.43%), underscoring the importance of earning esteem through demonstrated creativity, knowledge, and expertise in areas such as indie gaming and Disney lore [2].\n",
      "\n",
      "3. **Social and Professional Status:** Elevating one's standing within both the community and broader circles is important for 11.58% of the members. Achieving recognition as an authority in specific interest areas or through impactful content creation is a key aspect of this motivator [3].\n",
      "\n",
      "4. **Cultural and Personal Values:** Communal and cultural experiences hold significant value, with 19.71% of the community prioritizing aspects such as family or social gatherings. This highlights the strong emphasis on fostering connections and shared joy through activities related to their passions, be it virtual meetups, gaming sessions, or Disney park visits [4].\n",
      "\n",
      "These insights into the Disney Gamers and Park Lovers community's motivators reveal a group deeply passionate about their interests, driven by a desire for recognition, respect, and communal connection, all while valuing personal and cultural significance.\n"
     ]
    }
   ],
   "source": [
    "print(parser.invoke(step[END][-1])[0][\"args\"][\"answer\"])"
   ]
  },
  {
   "cell_type": "code",
   "execution_count": 15,
   "metadata": {},
   "outputs": [
    {
     "name": "stdout",
     "output_type": "stream",
     "text": [
      "['[1] source: ./raw_data.csv (row 52)', '[2] source: ./raw_data.csv (row 7)', '[3] source: ./raw_data.csv (row 6)', '[4] source: ./raw_data.csv (row 32)']\n"
     ]
    }
   ],
   "source": [
    "print(parser.invoke(step[END][-1])[0][\"args\"][\"references\"])"
   ]
  },
  {
   "cell_type": "code",
   "execution_count": 2,
   "metadata": {},
   "outputs": [],
   "source": [
    "from langchain_core.messages import AIMessage, BaseMessage, HumanMessage, ToolMessage\n",
    "\n",
    "state = [{'messages': HumanMessage(content='What are the motivators of your community?'), 'history': []}]"
   ]
  },
  {
   "cell_type": "code",
   "execution_count": 7,
   "metadata": {},
   "outputs": [
    {
     "data": {
      "text/plain": [
       "[{'messages': HumanMessage(content='What are the motivators of your community?'),\n",
       "  'history': []}]"
      ]
     },
     "execution_count": 7,
     "metadata": {},
     "output_type": "execute_result"
    }
   ],
   "source": [
    "state[0]['messages']"
   ]
  },
  {
   "cell_type": "code",
   "execution_count": 2,
   "metadata": {},
   "outputs": [],
   "source": [
    "from langchain_core.messages import AIMessage, BaseMessage, HumanMessage, ToolMessage\n",
    "response = [{'messages': [HumanMessage(content='What are the motivators of your community?')], 'history': []}, AIMessage(content='', additional_kwargs={'tool_calls': [{'id': 'call_gwTgAeJExZsM78kuUN1FtXfg', 'function': {'arguments': '{\"answer\":\"The motivators of the Disney Gamers and Park Lovers community are multifaceted, deeply rooted in both the psychological and social realms. A significant portion of the community, at 34.83%, is driven by the need for recognition from their peers. This desire for acknowledgment and validation from fellow community members fosters a culture of sharing and showcasing achievements, creations, and experiences. Whether it\\'s through posting high scores, sharing experiences at Disney parks, or displaying cosplay and fabrication projects, members seek to gain affirmation and a sense of belonging through peer recognition.\\\\n\\\\nAdditionally, a smaller percentage, 6.43%, of the community is motivated by the need for respect from others. This motivation extends beyond the confines of the community to how members perceive their standing and image in the wider social context. Respect from others can come in the form of admiration for their skills, creativity, or knowledge, further encouraging members to pursue excellence and innovation in their hobbies and interests.\",\"reflection\":{\"missing\":\"The reflection could have delved deeper into how these motivators impact the choice of activities within the community, such as the preference for indie gaming or Disney park experiences. It also could have explored the relationship between these psychological drivers and the community\\'s values of openness to change and self-transcendence.\",\"superfluous\":\"The explanation about respect from others might have been too broad and could have been more specifically tied to the community\\'s activities like gaming achievements or cosplay craftsmanship, to give a clearer picture of how respect is sought and gained within the community context.\"},\"search_queries\":[\"Which activities are most associated with seeking recognition from peers?\",\"How does the need for respect influence community engagement in gaming and Disney content?\",\"What are the primary sources of peer recognition within the community?\"]}', 'name': 'AnswerQuestion'}, 'type': 'function'}]}, response_metadata={'token_usage': {'completion_tokens': 357, 'prompt_tokens': 1100, 'total_tokens': 1457}, 'model_name': 'gpt-4-turbo-preview', 'system_fingerprint': 'fp_b77cb481ed', 'finish_reason': 'stop', 'logprobs': None}, id='run-2065cb86-659d-47ec-9130-185f480c6a04-0')]"
   ]
  },
  {
   "cell_type": "code",
   "execution_count": 19,
   "metadata": {},
   "outputs": [
    {
     "data": {
      "text/plain": [
       "\"The motivators of the Disney Gamers and Park Lovers community are multifaceted, deeply rooted in both the psychological and social realms. A significant portion of the community, at 34.83%, is driven by the need for recognition from their peers. This desire for acknowledgment and validation from fellow community members fosters a culture of sharing and showcasing achievements, creations, and experiences. Whether it's through posting high scores, sharing experiences at Disney parks, or displaying cosplay and fabrication projects, members seek to gain affirmation and a sense of belonging through peer recognition.\\n\\nAdditionally, a smaller percentage, 6.43%, of the community is motivated by the need for respect from others. This motivation extends beyond the confines of the community to how members perceive their standing and image in the wider social context. Respect from others can come in the form of admiration for their skills, creativity, or knowledge, further encouraging members to pursue excellence and innovation in their hobbies and interests.\""
      ]
     },
     "execution_count": 19,
     "metadata": {},
     "output_type": "execute_result"
    }
   ],
   "source": [
    "import json\n",
    "\n"
   ]
  },
  {
   "cell_type": "code",
   "execution_count": null,
   "metadata": {},
   "outputs": [],
   "source": []
  }
 ],
 "metadata": {
  "kernelspec": {
   "display_name": "Python 3",
   "language": "python",
   "name": "python3"
  },
  "language_info": {
   "codemirror_mode": {
    "name": "ipython",
    "version": 3
   },
   "file_extension": ".py",
   "mimetype": "text/x-python",
   "name": "python",
   "nbconvert_exporter": "python",
   "pygments_lexer": "ipython3",
   "version": "3.10.14"
  }
 },
 "nbformat": 4,
 "nbformat_minor": 2
}
