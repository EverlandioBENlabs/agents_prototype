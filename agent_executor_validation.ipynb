{
 "cells": [
  {
   "cell_type": "code",
   "execution_count": 1,
   "metadata": {},
   "outputs": [],
   "source": [
    "from langchain_core.prompts import ChatPromptTemplate, MessagesPlaceholder\n",
    "import streamlit as st\n",
    "from langchain_community.document_loaders import CSVLoader\n",
    "from langchain_openai import OpenAIEmbeddings, ChatOpenAI\n",
    "from langchain_community.vectorstores import Chroma\n",
    "from langchain_core.messages import AIMessage, BaseMessage, HumanMessage, ToolMessage\n",
    "from langchain.output_parsers.openai_tools import (\n",
    "    PydanticToolsParser,\n",
    ")\n",
    "from typing import List\n",
    "from langchain_core.pydantic_v1 import BaseModel, Field, ValidationError\n",
    "from langsmith import traceable\n",
    "from langchain_core.tools import tool\n",
    "from typing import List\n",
    "import json\n",
    "from langgraph.graph import END, MessageGraph\n",
    "from langgraph.checkpoint.sqlite import SqliteSaver\n",
    "from langgraph.prebuilt.tool_executor import ToolInvocation, ToolExecutor\n",
    "from langchain.output_parsers.openai_tools import JsonOutputToolsParser\n",
    "from collections import defaultdict\n",
    "from langchain_core.tools import tool\n",
    "from typing import List\n",
    "import os"
   ]
  },
  {
   "cell_type": "code",
   "execution_count": 2,
   "metadata": {},
   "outputs": [],
   "source": [
    "\n",
    "embedding_function = OpenAIEmbeddings()\n",
    "\n",
    "loader = CSVLoader(\"./raw_data.csv\", encoding=\"windows-1252\")\n",
    "documents = loader.load()\n",
    "\n",
    "db = Chroma.from_documents(documents, embedding_function)\n",
    "retriever = db.as_retriever()"
   ]
  },
  {
   "cell_type": "code",
   "execution_count": 3,
   "metadata": {},
   "outputs": [],
   "source": [
    "\n",
    "actor_prompt_template = ChatPromptTemplate.from_messages(\n",
    "    [\n",
    "        (\n",
    "            \"system\",\n",
    "            \"\"\"\n",
    "                You are an engaging and dynamic community of YouTube enthusiasts, named Disney Gamers and Park Lovers, with a shared passion for a wide array of interests that range from the magical realms of Disney lifestyle and content, the creative world of indie gaming, the art of cosplay and fabrication, to the ever-evolving landscape of gaming and tech news. Your community thrives on exploring the wonders of Disney parks and travel, celebrating fan art and comic illustrations, diving deep into the genres of fantasy TV and horror fandoms, and pursuing personal development through hobbies like LEGOs and toy photography.\n",
    "\n",
    "                **Openness to Change:** Your community values life full of excitement, novelties, and challenges, embracing the freedom to be creative and to determine your actions. With a strong interest in immersion, exploration, and creativity in video games, you seek experiences that allow you to feel like a kid again, engage with beloved characters, and feel a sense of nostalgia. Your diverse age group predominantly falls within the 25-34 range, reflecting a youthful spirit eager for adventure, whether it’s through the vast universes of role-playing games or the imaginative world of indie gaming.\n",
    "\n",
    "                **Self-enhancement:** Driven by the psychological drivers of proving competence/skills, expressing individuality, and living an exciting life, you strive for recognition from your peers and respect from others. You indulge in hobbies and habits that foster creativity, such as art/photography, arts and crafts, and enjoying museum/performing arts, showcasing a community that values self-expression and personal growth.\n",
    "\n",
    "                **Conservation:** Although you cherish freedom and creativity, there’s a significant portion of the community that values safety in oneself and family, and avoiding upsetting or harming people. The fact that a considerable number of you value routine and schedules, keep work and life separate, and exercise regularly, shows a commitment to maintaining balance and well-being in your lives. Your community respects the importance of family, as seen through regular family meals and the sentiment that family time is the best part of the day.\n",
    "\n",
    "                **Self-transcendence:** Your community is not just about self-interest; it also values everyone being treated equally, caring for nature, and acceptance of those who are different. These values reflect a collective commitment to making the world a better place, not just for yourselves but for others as well. Your engagement in video games that offer a sense of community and your interest in genres that promote exploration and adventure speak to your desire to transcend your own experiences and connect with something greater.\n",
    "\n",
    "                Together, you form a vibrant tapestry of gamers, creators, and dreamers, united by your love for storytelling, creativity, and the pursuit of excitement. Here, every voice matters, every passion is celebrated, and every day is an opportunity to explore new horizons and create memorable experiences. Welcome to a community where dreams come alive, and the magic never ends.\n",
    "\n",
    "                1. Provide a detailed answer to the user's question.\n",
    "                    - You MUST include numerical citations in your revised answer to ensure it can be verified.\n",
    "                    - Add a \"References\" section to the bottom of your answer. In form of:\n",
    "                        - [1] source: raw_data.csv (line 1) \n",
    "                        - [2] source: refined_data.csv (line 25)\n",
    "                2. Reflect and critique your answer. Be severe to maximize improvement.\n",
    "                3. Recommend queries to a statistical data aimed at enhancing your response by identifying significant patterns and deepening your understanding of this community. These queries should specifically target insights from psychology, marketing, or social media.\n",
    "            \"\"\"\n",
    "        ),\n",
    "        MessagesPlaceholder(variable_name=\"messages\"),\n",
    "        (\"system\", \"Answer the user's question above using the required format and context.\\n {context}\")\n",
    "    ]\n",
    ")\n",
    "\n",
    "class Reflection(BaseModel):\n",
    "    missing: str = Field(description=\"Critique of what is missing to give insights about the community behavior.\")\n",
    "    superfluous: str = Field(description=\"Critique of what is superfluous.\")\n",
    "\n",
    "class Answer(BaseModel):\n",
    "    answer: str = Field(description=\"A detailed answer to the question.\")\n",
    "    references: List[str] = Field(description=\"Citations motivating your answer.\")\n",
    "\n",
    "class AnswerQuestion(BaseModel):\n",
    "    \"\"\"Answer the question.\"\"\"\n",
    "\n",
    "    answer: Answer = Field(description=\"A detailed answer to the question with references.\")\n",
    "    # reflection: Reflection = Field(description=\"Your reflection on the initial answer.\")\n",
    "    # search_queries: List[str] = Field(\n",
    "    #     description=\"1-3 queries to a statistical data aimed at enhancing your response by identifying significant patterns and deepening your understanding of this community. These queries should specifically target insights from psychology, marketing, or social media.\"\n",
    "    # )\n",
    "    \n",
    "llm = ChatOpenAI(model=\"gpt-4-turbo-preview\")\n",
    "\n",
    "from langchain.chains import LLMCheckerChain\n",
    "# checker_chain = LLMCheckerChain.from_llm(llm)\n",
    "# initial_answer_chain = actor_prompt_template | checker_chain.bind(tools=[AnswerQuestion], tool_choice=\"AnswerQuestion\")\n",
    "initial_answer_chain = actor_prompt_template | llm.bind_tools(tools=[AnswerQuestion], tool_choice=\"AnswerQuestion\")\n",
    "\n",
    "validator = PydanticToolsParser(tools=[AnswerQuestion])\n",
    "\n",
    "class ResponderWithRetries:\n",
    "    def __init__(self, runnable, validator, retriever):\n",
    "        self.runnable = runnable\n",
    "        self.validator = validator\n",
    "        self.retriever = retriever\n",
    "\n",
    "    @traceable\n",
    "    def respond(self, state: List[BaseMessage]):\n",
    "        response = []\n",
    "        context = self.retriever.get_relevant_documents(state[-1].content)\n",
    "        for attempt in range(3):\n",
    "            try:\n",
    "                response = self.runnable.invoke({\"messages\": state, \"context\": context})\n",
    "                print(response)\n",
    "                self.validator.invoke(response)\n",
    "                return {\n",
    "                    \"answer\": json.loads(response.additional_kwargs['tool_calls'][0]['function']['arguments'])['answer']['answer'],\n",
    "                    # \"answer\": response['result'],\n",
    "                    \"contexts\": context\n",
    "                }\n",
    "            except ValidationError as e:\n",
    "                state = state + [HumanMessage(content=repr(e))]\n",
    "        return {\n",
    "            \"answer\": json.loads(response.additional_kwargs['tool_calls'][0]['function']['arguments'])['answer']['answer'],\n",
    "            # \"answer\": response['result'],\n",
    "            \"contexts\": context\n",
    "        }\n",
    "\n",
    "first_responder = ResponderWithRetries(\n",
    "    runnable=initial_answer_chain, validator=validator, retriever=retriever\n",
    ")\n",
    "\n",
    "parser = JsonOutputToolsParser(return_id=True)"
   ]
  },
  {
   "cell_type": "code",
   "execution_count": null,
   "metadata": {},
   "outputs": [],
   "source": [
    "res = first_responder.respond([HumanMessage(content=\"What are the key values of the Disney Gamers and Park Lovers community?\")])"
   ]
  },
  {
   "cell_type": "code",
   "execution_count": 4,
   "metadata": {},
   "outputs": [],
   "source": [
    "os.environ['LANGCHAIN_TRACING_V2'] = 'true'\n",
    "os.environ['LANGCHAIN_ENDPOINT'] = 'https://api.smith.langchain.com'\n",
    "os.environ['LANGCHAIN_API_KEY'] = 'ls__ac90e0c9b24241de8ffef73129fc3ab1'"
   ]
  },
  {
   "cell_type": "code",
   "execution_count": 6,
   "metadata": {},
   "outputs": [],
   "source": [
    "from langsmith import Client \n",
    "\n",
    "# QA\n",
    "inputs = [\n",
    "    \"What are the top interests of the Disney Gamers and Park Travelers community?\",\n",
    "    \"What is the top hobby of this audience and what percentage of them play video games for more than 5 hours per week?\",\n",
    "    \"What is the top interest of the community “Disney Gamers and Park Travelers”?\",\n",
    "    \"What are the top hobbies and habits of the Disney Gamers and Park Travelers audience?\",\n",
    "    \"What is the top interest of the Disney Gamers and Park Travelers audience?\"\n",
    "]\n",
    "\n",
    "outputs = [\n",
    "    \"The top interests of the Disney Gamers and Park Travelers community include Disney lifestyle and content, indie gaming, cosplay content and fabrication, gaming and tech news, Disney parks and travel, fan art, comic illustrations, fantasy TV, horror fandoms, personal development, LEGOs, and toy photography.\",\n",
    "    \"The top hobby of this audience is Disneyland travel/vacation, with 55.12% of them participating in it. 93.75% of this audience plays video games, with 26.05% of them playing for 5-10 hours per week.\",\n",
    "    \"The top interest of the community “Disney Gamers and Park Travelers” is Disney Lifestyle & Content.\",\n",
    "    \"According to the document, the top hobbies and habits of the Disney Gamers and Park Travelers audience are entertainment such as going to movies (45.87%), travel/vacation such as going to theme parks (55.12%), and gaming such as arcade games (37.39%).\",\n",
    "    \"The top interest of the Disney Gamers and Park Travelers audience is “Disney Lifestyle & Content.\"\n",
    "]\n",
    "\n",
    "qa_pairs = [{\"question\": q, \"answer\": a} for q, a in zip(inputs, outputs)]\n",
    "\n",
    "# Create dataset\n",
    "client = Client()\n",
    "dataset_name = \"RAG_test_LCEL\"\n",
    "dataset = client.create_dataset(\n",
    "    dataset_name=dataset_name,\n",
    "    description=\"QA pairs about LCEL.\",\n",
    ")\n",
    "client.create_examples(\n",
    "    inputs=[{\"question\": q} for q in inputs],\n",
    "    outputs=[{\"answer\": a} for a in outputs],\n",
    "    dataset_id=dataset.id,\n",
    ")"
   ]
  },
  {
   "cell_type": "code",
   "execution_count": 7,
   "metadata": {},
   "outputs": [],
   "source": [
    "def predict_rag_answer(example: dict):\n",
    "    \"\"\"Use this for answer evaluation\"\"\"\n",
    "    response = first_responder.respond([HumanMessage(content=example[\"question\"])])\n",
    "    return {\"answer\": response[\"answer\"]}\n",
    "\n",
    "def predict_rag_answer_with_context(example: dict):\n",
    "    \"\"\"Use this for evaluation of retrieved documents and hallucinations\"\"\"\n",
    "    response = first_responder.respond(example[\"question\"])\n",
    "    return {\"answer\": response[\"answer\"], \"contexts\": response[\"contexts\"]}"
   ]
  },
  {
   "cell_type": "code",
   "execution_count": 8,
   "metadata": {},
   "outputs": [
    {
     "name": "stderr",
     "output_type": "stream",
     "text": [
      "/home/vscode/.local/lib/python3.10/site-packages/tqdm/auto.py:21: TqdmWarning: IProgress not found. Please update jupyter and ipywidgets. See https://ipywidgets.readthedocs.io/en/stable/user_install.html\n",
      "  from .autonotebook import tqdm as notebook_tqdm\n"
     ]
    },
    {
     "name": "stdout",
     "output_type": "stream",
     "text": [
      "View the evaluation results for experiment: 'rag-qa-oai-7a60b14a' at:\n",
      "https://smith.langchain.com/o/bf63190d-7360-5697-91b9-93341b792d07/datasets/1a4ce892-88ac-4c85-8c2f-2363b0cab28b/compare?selectedSessions=f0fbcd25-aec3-462a-a2a9-5185063e6d77\n",
      "\n",
      "\n"
     ]
    },
    {
     "name": "stderr",
     "output_type": "stream",
     "text": [
      "0it [00:00, ?it/s]"
     ]
    },
    {
     "name": "stdout",
     "output_type": "stream",
     "text": [
      "content='' additional_kwargs={'tool_calls': [{'id': 'call_8ZFDnwnN33Xyy6UHhoYkmRGw', 'function': {'arguments': '{\"answer\":{\"answer\":\"The top interest of the community “Disney Gamers and Park Travelers” is the exploration and enjoyment of Disney parks and attractions. This interest is deeply rooted in their love for the immersive experiences that Disney parks offer, allowing them to connect with their favorite characters and stories in a tangible way. The community’s enthusiasm extends to both the physical experiences at the parks and the virtual exploration through video games that feature Disney themes or characters. This dual interest highlights their passion for all things Disney, from the thrill of the rides to the nostalgia and joy of interacting with the characters in a gaming environment.\",\"references\":[]}}', 'name': 'AnswerQuestion'}, 'type': 'function'}]} response_metadata={'token_usage': {'completion_tokens': 126, 'prompt_tokens': 860, 'total_tokens': 986}, 'model_name': 'gpt-4-turbo-preview', 'system_fingerprint': 'fp_122114e45f', 'finish_reason': 'stop', 'logprobs': None} id='run-6b46f54f-2d4d-4787-92ed-dba5139baebb-0' tool_calls=[{'name': 'AnswerQuestion', 'args': {'answer': {'answer': 'The top interest of the community “Disney Gamers and Park Travelers” is the exploration and enjoyment of Disney parks and attractions. This interest is deeply rooted in their love for the immersive experiences that Disney parks offer, allowing them to connect with their favorite characters and stories in a tangible way. The community’s enthusiasm extends to both the physical experiences at the parks and the virtual exploration through video games that feature Disney themes or characters. This dual interest highlights their passion for all things Disney, from the thrill of the rides to the nostalgia and joy of interacting with the characters in a gaming environment.', 'references': []}}, 'id': 'call_8ZFDnwnN33Xyy6UHhoYkmRGw'}]\n",
      "content='' additional_kwargs={'tool_calls': [{'id': 'call_YBmXZSe42gyYnYnEKIrg7Vts', 'function': {'arguments': '{\"answer\":{\"answer\":\"The top hobby of the Disney Gamers and Park Lovers community is engaging with video games, specifically within the realms of Disney-themed games, indie gaming, and a broad spectrum of gaming genres that embrace creativity, exploration, and immersive experiences. This aligns with the community\\'s openness to change, self-enhancement through skills and creativity, and a shared passion for storytelling and adventure in gaming. As for the percentage of community members who play video games for more than 5 hours per week, without concrete statistical data provided directly in the prompt, it\\'s challenging to specify an accurate figure. However, given the community\\'s deep engagement with gaming and related activities, it can be inferred that a significant portion of the members likely invest substantial time in gaming each week, possibly aligning with or exceeding general gaming community trends where dedicated gamers often spend several hours per day on their hobby.\",\"references\":[]},\"references\":[]}', 'name': 'AnswerQuestion'}, 'type': 'function'}]} response_metadata={'token_usage': {'completion_tokens': 186, 'prompt_tokens': 868, 'total_tokens': 1054}, 'model_name': 'gpt-4-turbo-preview', 'system_fingerprint': 'fp_122114e45f', 'finish_reason': 'stop', 'logprobs': None} id='run-02c839ee-7408-4955-9f07-42be2dd95342-0' tool_calls=[{'name': 'AnswerQuestion', 'args': {'answer': {'answer': \"The top hobby of the Disney Gamers and Park Lovers community is engaging with video games, specifically within the realms of Disney-themed games, indie gaming, and a broad spectrum of gaming genres that embrace creativity, exploration, and immersive experiences. This aligns with the community's openness to change, self-enhancement through skills and creativity, and a shared passion for storytelling and adventure in gaming. As for the percentage of community members who play video games for more than 5 hours per week, without concrete statistical data provided directly in the prompt, it's challenging to specify an accurate figure. However, given the community's deep engagement with gaming and related activities, it can be inferred that a significant portion of the members likely invest substantial time in gaming each week, possibly aligning with or exceeding general gaming community trends where dedicated gamers often spend several hours per day on their hobby.\", 'references': []}, 'references': []}, 'id': 'call_YBmXZSe42gyYnYnEKIrg7Vts'}]\n",
      "content='' additional_kwargs={'tool_calls': [{'id': 'call_4WFCkcpaJV8g6fz879nrbynR', 'function': {'arguments': '{\"answer\":{\"answer\":\"The top interest of the Disney Gamers and Park Travelers audience is going to Theme Parks, with a composition percentage of 55.12% [1]. This interest is significantly higher than other hobbies and habits recorded in the same demographic, including Group Travel at 20.29% [2], Arcade Gaming at 37.39% [3], and U.S. Travel at 43.87% [4]. Therefore, it\\'s evident that visiting theme parks is the most prevalent hobby among this audience, highlighting their passion for immersive experiences and attractions found in such environments.\",\"references\":[\"[1] source: ./raw_data.csv (row 114)\",\"[2] source: ./raw_data.csv (row 115)\",\"[3] source: ./raw_data.csv (row 104)\",\"[4] source: ./raw_data.csv (row 117)\"]}}', 'name': 'AnswerQuestion'}, 'type': 'function'}]} response_metadata={'token_usage': {'completion_tokens': 181, 'prompt_tokens': 1148, 'total_tokens': 1329}, 'model_name': 'gpt-4-turbo-preview', 'system_fingerprint': 'fp_122114e45f', 'finish_reason': 'stop', 'logprobs': None} id='run-84f1f556-e4a2-4038-bf68-aa0531d497e7-0' tool_calls=[{'name': 'AnswerQuestion', 'args': {'answer': {'answer': \"The top interest of the Disney Gamers and Park Travelers audience is going to Theme Parks, with a composition percentage of 55.12% [1]. This interest is significantly higher than other hobbies and habits recorded in the same demographic, including Group Travel at 20.29% [2], Arcade Gaming at 37.39% [3], and U.S. Travel at 43.87% [4]. Therefore, it's evident that visiting theme parks is the most prevalent hobby among this audience, highlighting their passion for immersive experiences and attractions found in such environments.\", 'references': ['[1] source: ./raw_data.csv (row 114)', '[2] source: ./raw_data.csv (row 115)', '[3] source: ./raw_data.csv (row 104)', '[4] source: ./raw_data.csv (row 117)']}}, 'id': 'call_4WFCkcpaJV8g6fz879nrbynR'}]\n",
      "content='' additional_kwargs={'tool_calls': [{'id': 'call_osj1MWnXuGb7sYVISiKvSAaR', 'function': {'arguments': '{\"answer\":{\"answer\":\"The top interests of the Disney Gamers and Park Travelers community, as gathered from the data, are centered around specific activities within the spheres of gaming and travel. The primary interests include:\\\\n\\\\n1. **Playing Video Games** - This is the most significant interest within the community, with a composition percentage of 91.54%. It underscores the community\\'s deep engagement with video gaming as a hobby and form of entertainment [1].\\\\n\\\\n2. **Going to Theme Parks** - A substantial interest in theme parks is evident, with 55.12% of the community expressing enjoyment in this activity. This interest aligns with the community\\'s affinity for Disney parks and travel [2].\\\\n\\\\n3. **Arcade Gaming** - Reflecting a specific niche within the broader gaming interest, arcade gaming holds a composition percentage of 37.39% [3].\\\\n\\\\n4. **Group Travel** - While travel is a broader interest, group travel specifically interests 20.29% of the community, indicating a preference for experiencing travel with friends or family [4].\\\\n\\\\nThese interests highlight a community that values both digital and real-world experiences, emphasizing the joy of gaming and the excitement of exploring theme parks and travel with others.\",\"references\":[\"[1] source: ./raw_data.csv (row 110)\",\"[2] source: ./raw_data.csv (row 114)\",\"[3] source: ./raw_data.csv (row 104)\",\"[4] source: ./raw_data.csv (row 115)\"]},\"parameters\":{}}', 'name': 'AnswerQuestion'}, 'type': 'function'}]} response_metadata={'token_usage': {'completion_tokens': 324, 'prompt_tokens': 1144, 'total_tokens': 1468}, 'model_name': 'gpt-4-turbo-preview', 'system_fingerprint': 'fp_122114e45f', 'finish_reason': 'stop', 'logprobs': None} id='run-42466d82-65f4-4197-bda9-bc1192756785-0' tool_calls=[{'name': 'AnswerQuestion', 'args': {'answer': {'answer': \"The top interests of the Disney Gamers and Park Travelers community, as gathered from the data, are centered around specific activities within the spheres of gaming and travel. The primary interests include:\\n\\n1. **Playing Video Games** - This is the most significant interest within the community, with a composition percentage of 91.54%. It underscores the community's deep engagement with video gaming as a hobby and form of entertainment [1].\\n\\n2. **Going to Theme Parks** - A substantial interest in theme parks is evident, with 55.12% of the community expressing enjoyment in this activity. This interest aligns with the community's affinity for Disney parks and travel [2].\\n\\n3. **Arcade Gaming** - Reflecting a specific niche within the broader gaming interest, arcade gaming holds a composition percentage of 37.39% [3].\\n\\n4. **Group Travel** - While travel is a broader interest, group travel specifically interests 20.29% of the community, indicating a preference for experiencing travel with friends or family [4].\\n\\nThese interests highlight a community that values both digital and real-world experiences, emphasizing the joy of gaming and the excitement of exploring theme parks and travel with others.\", 'references': ['[1] source: ./raw_data.csv (row 110)', '[2] source: ./raw_data.csv (row 114)', '[3] source: ./raw_data.csv (row 104)', '[4] source: ./raw_data.csv (row 115)']}, 'parameters': {}}, 'id': 'call_osj1MWnXuGb7sYVISiKvSAaR'}]\n",
      "content='' additional_kwargs={'tool_calls': [{'id': 'call_vJAY9KHTKReawMH8vy1Ac7hh', 'function': {'arguments': '{\"answer\":{\"answer\":\"The top hobbies and habits of the Disney Gamers and Park Travelers audience, based on insights from data, are primarily focused around two main areas: gaming and travel, especially visits to theme parks. The detailed insights include:\\\\n\\\\n1. Playing Video Games: A significant portion of the audience, 91.54%, engages in playing video games, making it the most popular hobby among them. This reflects the community\\'s strong inclination towards gaming as a primary form of entertainment and hobby [1].\\\\n\\\\n2. Regularly Played Mobile Games: Additionally, 79.47% of the audience also regularly plays mobile games (on smartphones or tablets), suggesting a particular interest in mobile gaming platforms alongside traditional gaming [2].\\\\n\\\\n3. Going to Theme Parks: Visiting theme parks is another major hobby, with 55.12% of the audience enjoying this activity. This indicates a significant interest in theme park experiences, aligning with their love for Disney and park travels [3].\\\\n\\\\n4. Group Travel: The data also shows that 20.29% of the audience participates in group travel, which may include trips to theme parks and other vacation destinations, highlighting a social aspect to their travel habits [4].\\\\n\\\\nThese hobbies and habits underscore the unique blend of interests within the Disney Gamers and Park Travelers community, combining a passion for gaming with a love for theme park adventures and travel.\",\"references\":[\"[1] source: ./raw_data.csv (row 110)\",\"[2] source: ./raw_data.csv (row 111)\",\"[3] source: ./raw_data.csv (row 114)\",\"[4] source: ./raw_data.csv (row 115)\"]}}', 'name': 'AnswerQuestion'}, 'type': 'function'}]} response_metadata={'token_usage': {'completion_tokens': 354, 'prompt_tokens': 1156, 'total_tokens': 1510}, 'model_name': 'gpt-4-turbo-preview', 'system_fingerprint': 'fp_122114e45f', 'finish_reason': 'stop', 'logprobs': None} id='run-c8539aac-f81e-4a87-b66d-2576aa7f9eb9-0' tool_calls=[{'name': 'AnswerQuestion', 'args': {'answer': {'answer': \"The top hobbies and habits of the Disney Gamers and Park Travelers audience, based on insights from data, are primarily focused around two main areas: gaming and travel, especially visits to theme parks. The detailed insights include:\\n\\n1. Playing Video Games: A significant portion of the audience, 91.54%, engages in playing video games, making it the most popular hobby among them. This reflects the community's strong inclination towards gaming as a primary form of entertainment and hobby [1].\\n\\n2. Regularly Played Mobile Games: Additionally, 79.47% of the audience also regularly plays mobile games (on smartphones or tablets), suggesting a particular interest in mobile gaming platforms alongside traditional gaming [2].\\n\\n3. Going to Theme Parks: Visiting theme parks is another major hobby, with 55.12% of the audience enjoying this activity. This indicates a significant interest in theme park experiences, aligning with their love for Disney and park travels [3].\\n\\n4. Group Travel: The data also shows that 20.29% of the audience participates in group travel, which may include trips to theme parks and other vacation destinations, highlighting a social aspect to their travel habits [4].\\n\\nThese hobbies and habits underscore the unique blend of interests within the Disney Gamers and Park Travelers community, combining a passion for gaming with a love for theme park adventures and travel.\", 'references': ['[1] source: ./raw_data.csv (row 110)', '[2] source: ./raw_data.csv (row 111)', '[3] source: ./raw_data.csv (row 114)', '[4] source: ./raw_data.csv (row 115)']}}, 'id': 'call_vJAY9KHTKReawMH8vy1Ac7hh'}]\n"
     ]
    },
    {
     "name": "stderr",
     "output_type": "stream",
     "text": [
      "5it [00:27,  5.53s/it]\n"
     ]
    }
   ],
   "source": [
    "from langsmith.evaluation import LangChainStringEvaluator, evaluate\n",
    "\n",
    "# Evaluator \n",
    "qa_evalulator = [LangChainStringEvaluator(\"cot_qa\",     \n",
    "                                          prepare_data=lambda run, example: {\n",
    "                                              \"prediction\": run.outputs[\"answer\"], \n",
    "                                              \"reference\": example.outputs[\"answer\"],\n",
    "                                              \"input\": example.inputs[\"question\"],\n",
    "                                          }  \n",
    "                                         )]\n",
    "dataset_name = \"RAG_test_LCEL\"\n",
    "experiment_results = evaluate(\n",
    "    predict_rag_answer,\n",
    "    data=dataset_name,\n",
    "    evaluators=qa_evalulator,\n",
    "    experiment_prefix=\"rag-qa-oai\",\n",
    "    metadata={\"variant\": \"LCEL context, gpt-3.5-turbo\"},\n",
    ")"
   ]
  },
  {
   "cell_type": "code",
   "execution_count": null,
   "metadata": {},
   "outputs": [],
   "source": [
    "from langchain.chains import LLMCheckerChain\n",
    "from langchain_openai import OpenAI\n",
    "\n",
    "llm = OpenAI(temperature=0.7)\n",
    "\n",
    "text = \"What type of mammal lays the biggest eggs?\"\n",
    "\n",
    "checker_chain = LLMCheckerChain.from_llm(llm, verbose=True)\n",
    "\n",
    "checker_chain.invoke(text)"
   ]
  },
  {
   "cell_type": "code",
   "execution_count": null,
   "metadata": {},
   "outputs": [],
   "source": []
  }
 ],
 "metadata": {
  "kernelspec": {
   "display_name": "Python 3",
   "language": "python",
   "name": "python3"
  },
  "language_info": {
   "codemirror_mode": {
    "name": "ipython",
    "version": 3
   },
   "file_extension": ".py",
   "mimetype": "text/x-python",
   "name": "python",
   "nbconvert_exporter": "python",
   "pygments_lexer": "ipython3",
   "version": "3.10.14"
  }
 },
 "nbformat": 4,
 "nbformat_minor": 2
}
